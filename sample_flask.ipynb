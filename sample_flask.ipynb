{
 "cells": [
  {
   "cell_type": "code",
   "execution_count": 1,
   "metadata": {},
   "outputs": [
    {
     "name": "stdout",
     "output_type": "stream",
     "text": [
      " * Serving Flask app '__main__'\n",
      " * Debug mode: off\n"
     ]
    },
    {
     "name": "stderr",
     "output_type": "stream",
     "text": [
      "WARNING: This is a development server. Do not use it in a production deployment. Use a production WSGI server instead.\n",
      " * Running on http://127.0.0.1:5000\n",
      "Press CTRL+C to quit\n",
      "Exception in thread Thread-3:\n",
      "Traceback (most recent call last):\n",
      "  File \"c:\\Users\\MujtabaNasir\\AppData\\Local\\Programs\\Python\\Python313\\Lib\\threading.py\", line 1041, in _bootstrap_inner\n",
      "    self.run()\n",
      "    ~~~~~~~~^^\n",
      "  File \"c:\\Users\\MujtabaNasir\\AppData\\Local\\Programs\\Python\\Python313\\Lib\\threading.py\", line 1342, in run\n",
      "    self.function(*self.args, **self.kwargs)\n",
      "    ~~~~~~~~~~~~~^^^^^^^^^^^^^^^^^^^^^^^^^^^\n",
      "  File \"c:\\Users\\MujtabaNasir\\AppData\\Local\\Programs\\Python\\Python313\\Lib\\site-packages\\flask_ngrok.py\", line 70, in start_ngrok\n",
      "    ngrok_address = _run_ngrok()\n",
      "  File \"c:\\Users\\MujtabaNasir\\AppData\\Local\\Programs\\Python\\Python313\\Lib\\site-packages\\flask_ngrok.py\", line 29, in _run_ngrok\n",
      "    os.chmod(executable, 777)\n",
      "    ~~~~~~~~^^^^^^^^^^^^^^^^^\n",
      "FileNotFoundError: [WinError 2] The system cannot find the file specified: 'C:\\\\Users\\\\MUJTAB~1\\\\AppData\\\\Local\\\\Temp\\\\ngrok\\\\ngrok.exe'\n",
      "127.0.0.1 - - [01/Nov/2024 21:07:02] \"GET / HTTP/1.1\" 200 -\n",
      "127.0.0.1 - - [01/Nov/2024 21:07:02] \"GET /favicon.ico HTTP/1.1\" 404 -\n",
      "127.0.0.1 - - [01/Nov/2024 21:07:15] \"GET /details HTTP/1.1\" 404 -\n",
      "127.0.0.1 - - [01/Nov/2024 21:07:21] \"GET /get_details HTTP/1.1\" 200 -\n"
     ]
    }
   ],
   "source": [
    "from flask_ngrok import run_with_ngrok\n",
    "from flask import Flask\n",
    "\n",
    "# Running the flask app\n",
    "app = Flask(__name__)\n",
    "\n",
    "# We need to start ngrok when the app is run\n",
    "run_with_ngrok(app)\n",
    "\n",
    "\n",
    "@app.route(\"/\")\n",
    "def index():\n",
    "    return \"<h1>Testing of Flask!</h1>\"\n",
    "\n",
    "\n",
    "@app.route(\"/get_details\")\n",
    "def get_details():\n",
    "    return \"<h1>This is the get details page!</h1>\"\n",
    "\n",
    "\n",
    "@app.route(\"/test\")\n",
    "def test_page():\n",
    "    return \"<h1>This is the test page!</h1>\"\n",
    "\n",
    "app.run()"
   ]
  }
 ],
 "metadata": {
  "kernelspec": {
   "display_name": "Python 3",
   "language": "python",
   "name": "python3"
  },
  "language_info": {
   "codemirror_mode": {
    "name": "ipython",
    "version": 3
   },
   "file_extension": ".py",
   "mimetype": "text/x-python",
   "name": "python",
   "nbconvert_exporter": "python",
   "pygments_lexer": "ipython3",
   "version": "3.13.0"
  }
 },
 "nbformat": 4,
 "nbformat_minor": 2
}
